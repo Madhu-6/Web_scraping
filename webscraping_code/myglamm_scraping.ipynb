{
 "cells": [
  {
   "cell_type": "code",
   "execution_count": 65,
   "metadata": {},
   "outputs": [],
   "source": [
    "import requests\n",
    "from bs4 import BeautifulSoup\n",
    "import pandas as pd\n",
    "import numpy as np\n",
    "\n",
    "url =  \"https://www.myglamm.com/buy/makeup/eyes/eyeliner\"\n",
    "r = requests.get(url)"
   ]
  },
  {
   "cell_type": "code",
   "execution_count": 66,
   "metadata": {},
   "outputs": [
    {
     "name": "stdout",
     "output_type": "stream",
     "text": [
      "https://www.myglamm.com/buy/makeup/eyes/eyeliner\n",
      "200\n"
     ]
    }
   ],
   "source": [
    "# print request object\n",
    "print(r.url)\n",
    "   \n",
    "# print status code\n",
    "print(r.status_code)"
   ]
  },
  {
   "cell_type": "code",
   "execution_count": 67,
   "metadata": {},
   "outputs": [
    {
     "data": {
      "text/plain": [
       "<title>Buy Eyeliner Online At Best Price In India </title>"
      ]
     },
     "execution_count": 67,
     "metadata": {},
     "output_type": "execute_result"
    }
   ],
   "source": [
    "soup = BeautifulSoup(r.content, \"html.parser\")\n",
    "\n",
    "title = soup.title\n",
    "title"
   ]
  },
  {
   "cell_type": "code",
   "execution_count": 68,
   "metadata": {},
   "outputs": [],
   "source": [
    "# Name of the product\n",
    "\n",
    "name =[]\n",
    "for link in soup.find_all(\"p\", class_ = \"line-clamp-2 font-bold text-xl h-15 mb-1\"):\n",
    "    name.append(link.text)"
   ]
  },
  {
   "cell_type": "code",
   "execution_count": 69,
   "metadata": {},
   "outputs": [],
   "source": [
    "# Description of the Product\n",
    "\n",
    "desc = []\n",
    "\n",
    "for link in soup.find_all(\"p\", class_ = \"text-xl opacity-70 h-15 line-clamp-2 mb-1\"):\n",
    "    desc.append(link.text)"
   ]
  },
  {
   "cell_type": "code",
   "execution_count": 70,
   "metadata": {},
   "outputs": [],
   "source": [
    "# Image of Products\n",
    "images=[]\n",
    "for image in soup.find_all(\"img\",class_=\"ImgComponent\")[:10]:\n",
    "    images.append(\"https://www.myglamm.com/\"+image.get('src'))"
   ]
  },
  {
   "cell_type": "code",
   "execution_count": 71,
   "metadata": {},
   "outputs": [],
   "source": [
    "# Actual Price of product\n",
    "\n",
    "actual_price =[]\n",
    "containers = soup.find_all(\"div\", class_=\"flex items-center font-bold text-2xl\")\n",
    "x = containers[0]\n",
    "\n",
    "for x in containers:\n",
    "    s=x.find(\"span\")\n",
    "    actual_price.append(s.text)"
   ]
  },
  {
   "cell_type": "code",
   "execution_count": 72,
   "metadata": {},
   "outputs": [],
   "source": [
    "# Product link\n",
    "\n",
    "product_link =[]\n",
    "for link in soup.find_all(\"a\", class_=\"p-5 border border-gray-300 mb-2\"):\n",
    "    product_link.append((\"https://www.myglamm.com/\")+link.get(\"href\"))\n"
   ]
  },
  {
   "cell_type": "code",
   "execution_count": 73,
   "metadata": {},
   "outputs": [
    {
     "name": "stdout",
     "output_type": "stream",
     "text": [
      "                                        Product Name   \n",
      "0  Jet Set Eyes Kajal Eyeliner And Gift Card Wort...  \\\n",
      "1  MyGlamm Define It Lip Liner + LIT Matte Eyelin...   \n",
      "2  Wheelie Liquid Eyeliner And Gift Card Worth ₹ 400   \n",
      "3                                            Wheelie   \n",
      "4  LIT Liquid Matte + LIT Matte Lip Liner Pencil ...   \n",
      "5                        Jet Set Eyes Kajal Eyeliner   \n",
      "6  LIT Liquid Matte + LIT Matte Lip Liner Pencil ...   \n",
      "7                 MyGlamm LIT Glossy Liquid Eyeliner   \n",
      "8  Combo of Ultimatte Liquid Lipstick + LIT Matte...   \n",
      "9  Manish Malhotra Precision Liquid Felt Tip Eyel...   \n",
      "\n",
      "                                         Description   \n",
      "0  Jet Set Eyes Kajal Eyeliner And Gift Card Wort...  \\\n",
      "1  MyGlamm Define It Lip Liner + LIT Matte Eyelin...   \n",
      "2  Wheelie Liquid Eyeliner And Gift Card Worth ₹ 400   \n",
      "3                     Precision Eyeliner and Stylist   \n",
      "4  Moringa Oil Enriched Matte Lipstick & Intensel...   \n",
      "5                              Long-wear Kohl Pencil   \n",
      "6  Moringa Oil Enriched Matte Lipstick & Intensel...   \n",
      "7          Up To 24HR Smudge-Proof Coloured Eyeliner   \n",
      "8  Flaunt iconic eyes with our Matte Eyeliner Pen...   \n",
      "9  Intense Longwear Liquid Eyeliner Pen | Made in...   \n",
      "\n",
      "                                               Image Actual Price   \n",
      "0  https://www.myglamm.com//mgp/images/default-bg...       ₹1,150  \\\n",
      "1  https://www.myglamm.com//mgp/images/default-bg...       ₹1,444   \n",
      "2  https://www.myglamm.com//mgp/images/default-bg...       ₹1,295   \n",
      "3  https://www.myglamm.com//mgp/images/default-bg...         ₹805   \n",
      "4  https://www.myglamm.com//mgp/images/default-bg...       ₹1,265   \n",
      "5  https://www.myglamm.com//mgp/images/default-bg...         ₹675   \n",
      "6  https://www.myglamm.com//mgp/images/default-bg...       ₹1,285   \n",
      "7  https://www.myglamm.com//mgp/images/default-bg...         ₹199   \n",
      "8  https://www.myglamm.com//mgp/images/default-bg...         ₹424   \n",
      "9  https://www.myglamm.com//mgp/images/default-bg...         ₹805   \n",
      "\n",
      "                                        Product Link  \n",
      "0  https://www.myglamm.com//product/jet-set-eyes-...  \n",
      "1  https://www.myglamm.com//product/myglamm-defin...  \n",
      "2  https://www.myglamm.com//product/wheelie-liqui...  \n",
      "3      https://www.myglamm.com//product/wheelie.html  \n",
      "4  https://www.myglamm.com//product/lit-liquid-ma...  \n",
      "5  https://www.myglamm.com//product/jet-set-eyes-...  \n",
      "6  https://www.myglamm.com//product/lit-liquid-ma...  \n",
      "7  https://www.myglamm.com//product/lit-glossy-li...  \n",
      "8  https://www.myglamm.com//product/myglamm-ultim...  \n",
      "9  https://www.myglamm.com//product/manish-malhot...  \n"
     ]
    }
   ],
   "source": [
    "df=pd.DataFrame({\"Product Name\":name,\n",
    "                 \"Description\":desc,\n",
    "                 \"Image\":images,\n",
    "                 \"Actual Price\":actual_price,\n",
    "                 \"Product Link\":product_link})\n",
    "print(df)\n",
    "\n",
    "df.to_excel(\"myglamm.xlsx\", sheet_name = \"Snapdeal_scraping\",index =False)"
   ]
  }
 ],
 "metadata": {
  "kernelspec": {
   "display_name": "Python 3",
   "language": "python",
   "name": "python3"
  },
  "language_info": {
   "codemirror_mode": {
    "name": "ipython",
    "version": 3
   },
   "file_extension": ".py",
   "mimetype": "text/x-python",
   "name": "python",
   "nbconvert_exporter": "python",
   "pygments_lexer": "ipython3",
   "version": "3.11.3"
  },
  "orig_nbformat": 4
 },
 "nbformat": 4,
 "nbformat_minor": 2
}
