{
 "cells": [
  {
   "cell_type": "code",
   "execution_count": 25,
   "metadata": {},
   "outputs": [],
   "source": [
    "import requests\n",
    "from bs4 import BeautifulSoup\n",
    "import pandas as pd\n",
    "import numpy as np\n",
    "\n",
    "url = \"https://www.snapdeal.com/search?keyword=titan%20watches&santizedKeyword=watches&catId=0&categoryId=0&suggested=true&vertical=p&noOfResults=20&searchState=&clickSrc=suggested&lastKeyword=&prodCatId=&changeBackToAll=false&foundInAll=false&categoryIdSearched=&cityPageUrl=&categoryUrl=&url=&utmContent=&dealDetail=&sort=rlvncy\"\n",
    "\n",
    "r = requests.get(url,timeout=10)"
   ]
  },
  {
   "cell_type": "code",
   "execution_count": 26,
   "metadata": {},
   "outputs": [
    {
     "name": "stdout",
     "output_type": "stream",
     "text": [
      "https://www.snapdeal.com/search?keyword=titan%20watches&santizedKeyword=watches&catId=0&categoryId=0&suggested=true&vertical=p&noOfResults=20&searchState=&clickSrc=suggested&lastKeyword=&prodCatId=&changeBackToAll=false&foundInAll=false&categoryIdSearched=&cityPageUrl=&categoryUrl=&url=&utmContent=&dealDetail=&sort=rlvncy\n",
      "200\n"
     ]
    }
   ],
   "source": [
    "# print request object\n",
    "print(r.url)\n",
    "   \n",
    "# print status code\n",
    "print(r.status_code)"
   ]
  },
  {
   "cell_type": "code",
   "execution_count": 27,
   "metadata": {},
   "outputs": [
    {
     "data": {
      "text/plain": [
       "<title>Snapdeal.com - Online shopping India- Discounts - shop Online Perfumes, Watches, sunglasses etc</title>"
      ]
     },
     "execution_count": 27,
     "metadata": {},
     "output_type": "execute_result"
    }
   ],
   "source": [
    "soup = BeautifulSoup(r.content, \"html.parser\")\n",
    "\n",
    "title = soup.title\n",
    "title"
   ]
  },
  {
   "cell_type": "code",
   "execution_count": 28,
   "metadata": {},
   "outputs": [],
   "source": [
    "# Name of the product\n",
    "\n",
    "name =[]\n",
    "for names in soup.find_all(\"p\", class_ = \"product-title\"):\n",
    "    name.append(names.text)\n",
    "    "
   ]
  },
  {
   "cell_type": "code",
   "execution_count": 29,
   "metadata": {},
   "outputs": [],
   "source": [
    "# Image of Products\n",
    "\n",
    "image=[]\n",
    "for img in soup.find_all(\"source\",class_=\"product-image\"):\n",
    "    image.append(img.get(\"srcset\"))\n",
    "    "
   ]
  },
  {
   "cell_type": "code",
   "execution_count": 30,
   "metadata": {},
   "outputs": [],
   "source": [
    "# Actual Price of product\n",
    "\n",
    "actual_price =[]\n",
    "for price in soup.find_all(\"span\", class_=\"lfloat product-desc-price strike\"):\n",
    "    actual_price.append(price.text)"
   ]
  },
  {
   "cell_type": "code",
   "execution_count": 31,
   "metadata": {},
   "outputs": [],
   "source": [
    "# Price after Discount\n",
    "\n",
    "discounted_price =[]\n",
    "for price in soup.find_all(\"span\",class_=\"lfloat product-price\"):\n",
    "    discounted_price.append(price.get_text())"
   ]
  },
  {
   "cell_type": "code",
   "execution_count": 32,
   "metadata": {},
   "outputs": [],
   "source": [
    "# Product Discount\n",
    "\n",
    "discount = []\n",
    "for disc in soup.find_all(\"div\", class_=\"product-discount\"):\n",
    "    discount.append(disc.text.strip())"
   ]
  },
  {
   "cell_type": "code",
   "execution_count": 33,
   "metadata": {},
   "outputs": [],
   "source": [
    "# Review of the product\n",
    "\n",
    "review =[]\n",
    "for reviews in soup.find_all(\"div\", class_ = \"filled-stars\")[:20]:\n",
    "    review.append(reviews.get(\"style\").strip(\"width:\"))"
   ]
  },
  {
   "cell_type": "code",
   "execution_count": 34,
   "metadata": {},
   "outputs": [],
   "source": [
    "# Review Count\n",
    "\n",
    "review_count = []\n",
    "for count in soup.find_all(\"p\",class_=\"product-rating-count\"):\n",
    "    review_count.append(count.text)"
   ]
  },
  {
   "cell_type": "code",
   "execution_count": 35,
   "metadata": {},
   "outputs": [],
   "source": [
    "# Product link\n",
    "\n",
    "product_link =[]\n",
    "for link in soup.find_all(\"a\", class_=\"dp-widget-link noUdLine\"):\n",
    "    product_link.append(link.get(\"href\"))\n",
    "    \n",
    "links=np.unique(product_link)"
   ]
  },
  {
   "cell_type": "code",
   "execution_count": 36,
   "metadata": {},
   "outputs": [
    {
     "name": "stdout",
     "output_type": "stream",
     "text": [
      "                                         Product Name   \n",
      "0         HMTr 6061 GOLDEN Leather Analog Men's Watch  \\\n",
      "1   Style Smith Blue Dial Stainless Steel Strap An...   \n",
      "2   Style Smith Black Dial Leather Strap Analog Wr...   \n",
      "3             DIGITRACK - Black PU Analog Men's Watch   \n",
      "4     Redux - Gold Stainless Steel Analog Men's Watch   \n",
      "5     Redux - Gold Stainless Steel Analog Men's Watch   \n",
      "6   Style Smith Black Dial Stainless Steel Strap A...   \n",
      "7   DIGITRACK - Silver Stainless Steel Analog Men'...   \n",
      "8   Style Smith Silver Dial Stainless Steel Strap ...   \n",
      "9   Style Smith Black Dial Silicon Strap Analog Wr...   \n",
      "10            HMXT HMXT-22 Leather Analog Men's Watch   \n",
      "11       DIGITRACK - Black Leather Analog Men's Watch   \n",
      "12                 HMTL 9151 Metal Analog Men's Watch   \n",
      "13    Redux - Gold Stainless Steel Analog Men's Watch   \n",
      "14  Style Smith Grey Dial Silicon Strap Analog Wri...   \n",
      "15  DIGITRACK - Silver Stainless Steel Analog Men'...   \n",
      "16    Redux - Gold Stainless Steel Analog Men's Watch   \n",
      "17           Redux - Brown Leather Analog Men's Watch   \n",
      "18           Redux - Brown Leather Analog Men's Watch   \n",
      "19  DIGITRACK - Gold Stainless Steel Analog Men's ...   \n",
      "\n",
      "                                                Image Actual Price   \n",
      "0   https://n1.sdlcdn.com/imgs/j/s/y/large/HMTr-60...      Rs. 899  \\\n",
      "1   https://n3.sdlcdn.com/imgs/k/n/y/large/Style-S...    Rs. 1,599   \n",
      "2   https://n2.sdlcdn.com/imgs/k/n/y/large/Style-S...    Rs. 1,599   \n",
      "3   https://n2.sdlcdn.com/imgs/j/x/g/large/DIGITRA...    Rs. 1,199   \n",
      "4   https://n2.sdlcdn.com/imgs/j/v/m/large/Redux-M...    Rs. 1,799   \n",
      "5   https://n3.sdlcdn.com/imgs/k/a/9/large/Redux-M...    Rs. 1,799   \n",
      "6   https://n2.sdlcdn.com/imgs/k/n/y/large/Style-S...    Rs. 1,599   \n",
      "7   https://n3.sdlcdn.com/imgs/j/t/c/large/DIGITRA...    Rs. 1,199   \n",
      "8   https://n3.sdlcdn.com/imgs/k/n/y/large/Style-S...    Rs. 1,599   \n",
      "9   https://n4.sdlcdn.com/imgs/k/n/y/large/Style-S...    Rs. 1,399   \n",
      "10  https://n4.sdlcdn.com/imgs/j/y/g/large/HMXT-HM...      Rs. 999   \n",
      "11  https://n4.sdlcdn.com/imgs/j/l/t/large/DIGITRA...    Rs. 1,199   \n",
      "12  https://n2.sdlcdn.com/imgs/j/y/k/large/HMTL-91...      Rs. 999   \n",
      "13  https://n4.sdlcdn.com/imgs/j/u/e/large/Redux-R...    Rs. 1,799   \n",
      "14  https://n3.sdlcdn.com/imgs/k/n/y/large/Style-S...    Rs. 1,399   \n",
      "15  https://n1.sdlcdn.com/imgs/j/n/8/large/DIGITRA...    Rs. 1,199   \n",
      "16  https://n3.sdlcdn.com/imgs/j/t/q/large/Redux-R...    Rs. 1,799   \n",
      "17  https://n2.sdlcdn.com/imgs/j/t/q/large/Redux-R...    Rs. 1,699   \n",
      "18  https://n2.sdlcdn.com/imgs/j/u/e/large/Redux-R...    Rs. 1,699   \n",
      "19  https://n1.sdlcdn.com/imgs/j/m/r/large/DIGITRA...    Rs. 1,499   \n",
      "\n",
      "   discounted_price Discount         Review in % Review count   \n",
      "0          Rs.  299  67% Off               80.0%       (1614)  \\\n",
      "1          Rs.  599  63% Off               60.0%          (4)   \n",
      "2          Rs.  649  59% Off               40.0%         (17)   \n",
      "3          Rs.  289  76% Off               20.0%         (68)   \n",
      "4          Rs.  379  79% Off               80.0%       (3357)   \n",
      "5          Rs.  399  78% Off               86.0%        (157)   \n",
      "6          Rs.  599  63% Off               92.0%          (2)   \n",
      "7          Rs.  319  73% Off  88.00000000000001%        (136)   \n",
      "8          Rs.  599  63% Off  84.00000000000001%          (3)   \n",
      "9          Rs.  629  55% Off               82.0%          (1)   \n",
      "10         Rs.  389  61% Off              100.0%         (92)   \n",
      "11         Rs.  279  77% Off  88.00000000000001%         (28)   \n",
      "12         Rs.  354  65% Off               74.0%         (40)   \n",
      "13         Rs.  399  78% Off               80.0%         (82)   \n",
      "14         Rs.  629  55% Off               78.0%          (4)   \n",
      "15         Rs.  329  73% Off  88.00000000000001%        (665)   \n",
      "16         Rs.  379  79% Off               76.0%        (429)   \n",
      "17         Rs.  349  79% Off               86.0%         (50)   \n",
      "18         Rs.  349  79% Off               86.0%         (62)   \n",
      "19         Rs.  369  75% Off               82.0%        (126)   \n",
      "\n",
      "                                         Product Link  \n",
      "0   https://www.snapdeal.com/product/digitrack-303...  \n",
      "1   https://www.snapdeal.com/product/digitrack-303...  \n",
      "2   https://www.snapdeal.com/product/digitrack-311...  \n",
      "3   https://www.snapdeal.com/product/digitrack-915...  \n",
      "4   https://www.snapdeal.com/product/digitrack-dg3...  \n",
      "5   https://www.snapdeal.com/product/hmtl-9151-met...  \n",
      "6   https://www.snapdeal.com/product/hmtr-6061gold...  \n",
      "7   https://www.snapdeal.com/product/hmxt-hmxt22-l...  \n",
      "8   https://www.snapdeal.com/product/redux-mw404-g...  \n",
      "9   https://www.snapdeal.com/product/redux-mw404-g...  \n",
      "10  https://www.snapdeal.com/product/redux-rws0272...  \n",
      "11  https://www.snapdeal.com/product/redux-rws0273...  \n",
      "12  https://www.snapdeal.com/product/redux-rws0283...  \n",
      "13  https://www.snapdeal.com/product/redux-rws0367...  \n",
      "14  https://www.snapdeal.com/product/style-smith-b...  \n",
      "15  https://www.snapdeal.com/product/style-smith-b...  \n",
      "16  https://www.snapdeal.com/product/style-smith-b...  \n",
      "17  https://www.snapdeal.com/product/style-smith-s...  \n",
      "18  https://www.snapdeal.com/product/style-smith-s...  \n",
      "19  https://www.snapdeal.com/product/style-smith-s...  \n"
     ]
    }
   ],
   "source": [
    "df=pd.DataFrame({\"Product Name\":name,\n",
    "                 \"Image\":image,\n",
    "                 \"Actual Price\":actual_price,\n",
    "                 \"discounted_price\":discounted_price,\n",
    "                 \"Discount\":discount,\n",
    "                 \"Review in %\":review,\n",
    "                 \"Review count\":review_count,\n",
    "                 \"Product Link\":links})\n",
    "print(df)\n",
    "\n",
    "df.to_excel(\"Snapdeal.xlsx\", sheet_name = \"Snapdeal_scraping\",index =False)"
   ]
  }
 ],
 "metadata": {
  "kernelspec": {
   "display_name": "Python 3",
   "language": "python",
   "name": "python3"
  },
  "language_info": {
   "codemirror_mode": {
    "name": "ipython",
    "version": 3
   },
   "file_extension": ".py",
   "mimetype": "text/x-python",
   "name": "python",
   "nbconvert_exporter": "python",
   "pygments_lexer": "ipython3",
   "version": "3.11.3"
  },
  "orig_nbformat": 4
 },
 "nbformat": 4,
 "nbformat_minor": 2
}
